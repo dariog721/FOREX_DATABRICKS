{
 "cells": [
  {
   "cell_type": "markdown",
   "metadata": {
    "application/vnd.databricks.v1+cell": {
     "cellMetadata": {
      "byteLimit": 2048000,
      "rowLimit": 10000
     },
     "inputWidgets": {},
     "nuid": "85cadcfc-5cc1-41d0-b74d-d639fecea13d",
     "showTitle": false,
     "title": ""
    }
   },
   "source": [
    "#Transform Forex RANK "
   ]
  },
  {
   "cell_type": "code",
   "execution_count": 0,
   "metadata": {
    "application/vnd.databricks.v1+cell": {
     "cellMetadata": {
      "byteLimit": 2048000,
      "rowLimit": 10000
     },
     "inputWidgets": {},
     "nuid": "03deb14a-6324-47d5-b0c3-bca221b7e915",
     "showTitle": false,
     "title": ""
    }
   },
   "outputs": [],
   "source": [
    "from pyspark.sql import Window\n",
    "from pyspark.sql.functions import *\n",
    "from pyspark.sql.types import *\n",
    "import pandas as pd"
   ]
  },
  {
   "cell_type": "code",
   "execution_count": 0,
   "metadata": {
    "application/vnd.databricks.v1+cell": {
     "cellMetadata": {
      "byteLimit": 2048000,
      "rowLimit": 10000
     },
     "inputWidgets": {},
     "nuid": "5a907d0d-4d79-4475-894a-59dd69f5e700",
     "showTitle": false,
     "title": ""
    }
   },
   "outputs": [],
   "source": [
    "forex_df = spark.read.format(\"delta\").load(\"/mnt/forexratesdl/processed/forex_data\")"
   ]
  },
  {
   "cell_type": "code",
   "execution_count": 0,
   "metadata": {
    "application/vnd.databricks.v1+cell": {
     "cellMetadata": {
      "byteLimit": 2048000,
      "rowLimit": 10000
     },
     "inputWidgets": {},
     "nuid": "9badad1d-2284-48df-ba0b-eedb2a548f92",
     "showTitle": false,
     "title": ""
    }
   },
   "outputs": [],
   "source": [
    "forex_df = forex_df.where(to_date('data_time', 'yyyy/MM/dd HH:mm:ss.SSS') == current_date())"
   ]
  },
  {
   "cell_type": "code",
   "execution_count": 0,
   "metadata": {
    "application/vnd.databricks.v1+cell": {
     "cellMetadata": {
      "byteLimit": 2048000,
      "rowLimit": 10000
     },
     "inputWidgets": {},
     "nuid": "97553c29-3fc9-4f8f-98f6-70844347c4de",
     "showTitle": false,
     "title": ""
    }
   },
   "outputs": [
    {
     "output_type": "display_data",
     "data": {
      "text/html": [
       "<style scoped>\n",
       "  .table-result-container {\n",
       "    max-height: 300px;\n",
       "    overflow: auto;\n",
       "  }\n",
       "  table, th, td {\n",
       "    border: 1px solid black;\n",
       "    border-collapse: collapse;\n",
       "  }\n",
       "  th, td {\n",
       "    padding: 5px;\n",
       "  }\n",
       "  th {\n",
       "    text-align: left;\n",
       "  }\n",
       "</style><div class='table-result-container'><table class='table-result'><thead style='background-color: white'><tr><th>base_currency_id</th><th>target_currency_id</th><th>currency_name</th><th>amount</th><th>data_time</th><th>drank</th></tr></thead><tbody><tr><td>USD</td><td>EUR</td><td>Euro</td><td>0.934652</td><td>2024-04-29T14:00:00Z</td><td>1</td></tr><tr><td>USD</td><td>PAB</td><td>Panamanian Balboa</td><td>1.0</td><td>2024-04-29T14:00:00Z</td><td>2</td></tr><tr><td>USD</td><td>PEN</td><td>Peruvian Nuevo Sol</td><td>3.741931</td><td>2024-04-29T14:00:00Z</td><td>3</td></tr><tr><td>USD</td><td>BRL</td><td>Brazilian Real</td><td>5.1148</td><td>2024-04-29T14:00:00Z</td><td>4</td></tr><tr><td>USD</td><td>BOB</td><td>Bolivian Boliviano</td><td>6.943602</td><td>2024-04-29T14:00:00Z</td><td>5</td></tr><tr><td>USD</td><td>GTQ</td><td>Guatemalan Quetzal</td><td>7.787287</td><td>2024-04-29T14:00:00Z</td><td>6</td></tr><tr><td>USD</td><td>MXN</td><td>Mexican Peso</td><td>17.088307</td><td>2024-04-29T14:00:00Z</td><td>7</td></tr><tr><td>USD</td><td>HNL</td><td>Honduran Lempira</td><td>24.692383</td><td>2024-04-29T14:00:00Z</td><td>8</td></tr><tr><td>USD</td><td>CUP</td><td>Cuban Peso</td><td>25.75</td><td>2024-04-29T14:00:00Z</td><td>9</td></tr><tr><td>USD</td><td>VES</td><td>Venezuelan Bolovar Soberano</td><td>36.38483</td><td>2024-04-29T14:00:00Z</td><td>10</td></tr><tr><td>USD</td><td>NIO</td><td>Nicaraguan Cordoba</td><td>36.988665</td><td>2024-04-29T14:00:00Z</td><td>11</td></tr><tr><td>USD</td><td>UYU</td><td>Uruguayan Peso</td><td>38.638884</td><td>2024-04-29T14:00:00Z</td><td>12</td></tr><tr><td>USD</td><td>DOP</td><td>Dominican Peso</td><td>58.489357</td><td>2024-04-29T14:00:00Z</td><td>13</td></tr><tr><td>USD</td><td>CRC</td><td>Costa Rican Colon</td><td>508.749858</td><td>2024-04-29T14:00:00Z</td><td>14</td></tr><tr><td>USD</td><td>ARS</td><td>Argentine Peso</td><td>876.1804</td><td>2024-04-29T14:00:00Z</td><td>15</td></tr><tr><td>USD</td><td>CLP</td><td>Chilean Peso</td><td>947.9</td><td>2024-04-29T14:00:00Z</td><td>16</td></tr><tr><td>USD</td><td>COP</td><td>Colombian Peso</td><td>3911.346983</td><td>2024-04-29T14:00:00Z</td><td>17</td></tr><tr><td>USD</td><td>PYG</td><td>Paraguayan Guarani</td><td>7445.232024</td><td>2024-04-29T14:00:00Z</td><td>18</td></tr></tbody></table></div>"
      ]
     },
     "metadata": {
      "application/vnd.databricks.v1+output": {
       "addedWidgets": {},
       "aggData": [],
       "aggError": "",
       "aggOverflow": false,
       "aggSchema": [],
       "aggSeriesLimitReached": false,
       "aggType": "",
       "arguments": {},
       "columnCustomDisplayInfos": {},
       "data": [
        [
         "USD",
         "EUR",
         "Euro",
         0.934652,
         "2024-04-29T14:00:00Z",
         1
        ],
        [
         "USD",
         "PAB",
         "Panamanian Balboa",
         1.0,
         "2024-04-29T14:00:00Z",
         2
        ],
        [
         "USD",
         "PEN",
         "Peruvian Nuevo Sol",
         3.741931,
         "2024-04-29T14:00:00Z",
         3
        ],
        [
         "USD",
         "BRL",
         "Brazilian Real",
         5.1148,
         "2024-04-29T14:00:00Z",
         4
        ],
        [
         "USD",
         "BOB",
         "Bolivian Boliviano",
         6.943602,
         "2024-04-29T14:00:00Z",
         5
        ],
        [
         "USD",
         "GTQ",
         "Guatemalan Quetzal",
         7.787287,
         "2024-04-29T14:00:00Z",
         6
        ],
        [
         "USD",
         "MXN",
         "Mexican Peso",
         17.088307,
         "2024-04-29T14:00:00Z",
         7
        ],
        [
         "USD",
         "HNL",
         "Honduran Lempira",
         24.692383,
         "2024-04-29T14:00:00Z",
         8
        ],
        [
         "USD",
         "CUP",
         "Cuban Peso",
         25.75,
         "2024-04-29T14:00:00Z",
         9
        ],
        [
         "USD",
         "VES",
         "Venezuelan Bolovar Soberano",
         36.38483,
         "2024-04-29T14:00:00Z",
         10
        ],
        [
         "USD",
         "NIO",
         "Nicaraguan Cordoba",
         36.988665,
         "2024-04-29T14:00:00Z",
         11
        ],
        [
         "USD",
         "UYU",
         "Uruguayan Peso",
         38.638884,
         "2024-04-29T14:00:00Z",
         12
        ],
        [
         "USD",
         "DOP",
         "Dominican Peso",
         58.489357,
         "2024-04-29T14:00:00Z",
         13
        ],
        [
         "USD",
         "CRC",
         "Costa Rican Colon",
         508.749858,
         "2024-04-29T14:00:00Z",
         14
        ],
        [
         "USD",
         "ARS",
         "Argentine Peso",
         876.1804,
         "2024-04-29T14:00:00Z",
         15
        ],
        [
         "USD",
         "CLP",
         "Chilean Peso",
         947.9,
         "2024-04-29T14:00:00Z",
         16
        ],
        [
         "USD",
         "COP",
         "Colombian Peso",
         3911.346983,
         "2024-04-29T14:00:00Z",
         17
        ],
        [
         "USD",
         "PYG",
         "Paraguayan Guarani",
         7445.232024,
         "2024-04-29T14:00:00Z",
         18
        ]
       ],
       "datasetInfos": [],
       "dbfsResultPath": null,
       "isJsonSchema": true,
       "metadata": {},
       "overflow": false,
       "plotOptions": {
        "customPlotOptions": {},
        "displayType": "table",
        "pivotAggregation": null,
        "pivotColumns": null,
        "xColumns": null,
        "yColumns": null
       },
       "removedWidgets": [],
       "schema": [
        {
         "metadata": "{}",
         "name": "base_currency_id",
         "type": "\"string\""
        },
        {
         "metadata": "{}",
         "name": "target_currency_id",
         "type": "\"string\""
        },
        {
         "metadata": "{}",
         "name": "currency_name",
         "type": "\"string\""
        },
        {
         "metadata": "{}",
         "name": "amount",
         "type": "\"double\""
        },
        {
         "metadata": "{}",
         "name": "data_time",
         "type": "\"timestamp\""
        },
        {
         "metadata": "{}",
         "name": "drank",
         "type": "\"integer\""
        }
       ],
       "type": "table"
      }
     },
     "output_type": "display_data"
    }
   ],
   "source": [
    "window = Window.partitionBy(\"data_time\").orderBy(asc('amount'))\n",
    "forex_rank = forex_df.withColumn(\"drank\", rank().over(window))"
   ]
  },
  {
   "cell_type": "code",
   "execution_count": 0,
   "metadata": {
    "application/vnd.databricks.v1+cell": {
     "cellMetadata": {
      "byteLimit": 2048000,
      "rowLimit": 10000
     },
     "inputWidgets": {},
     "nuid": "6622e252-d4c6-4396-8bb5-672acf5edc91",
     "showTitle": false,
     "title": ""
    }
   },
   "outputs": [
    {
     "output_type": "display_data",
     "data": {
      "text/html": [
       "<style scoped>\n",
       "  .ansiout {\n",
       "    display: block;\n",
       "    unicode-bidi: embed;\n",
       "    white-space: pre-wrap;\n",
       "    word-wrap: break-word;\n",
       "    word-break: break-all;\n",
       "    font-family: \"Menlo\", \"Monaco\", \"Consolas\", \"Ubuntu Mono\", \"Source Code Pro\", monospace;\n",
       "    font-size: 13px;\n",
       "    color: #555;\n",
       "    margin-left: 4px;\n",
       "    line-height: 19px;\n",
       "  }\n",
       "</style>"
      ]
     },
     "metadata": {
      "application/vnd.databricks.v1+output": {
       "arguments": {},
       "data": "",
       "errorSummary": "Cancelled",
       "errorTraceType": "html",
       "metadata": {},
       "type": "ipynbError"
      }
     },
     "output_type": "display_data"
    }
   ],
   "source": [
    "forex_rank.write.mode(\"append\").format(\"delta\").saveAsTable(\"presentation_forex_db.forex_rank\")"
   ]
  },
  {
   "cell_type": "code",
   "execution_count": 0,
   "metadata": {
    "application/vnd.databricks.v1+cell": {
     "cellMetadata": {},
     "inputWidgets": {},
     "nuid": "37eabef7-c2da-4325-8b04-10d837e34c53",
     "showTitle": false,
     "title": ""
    }
   },
   "outputs": [],
   "source": []
  }
 ],
 "metadata": {
  "application/vnd.databricks.v1+notebook": {
   "dashboards": [],
   "language": "python",
   "notebookMetadata": {
    "mostRecentlyExecutedCommandWithImplicitDF": {
     "commandId": 3817958686160607,
     "dataframes": [
      "_sqldf"
     ]
    },
    "pythonIndentUnit": 4
   },
   "notebookName": "Daily Forex Rank",
   "widgets": {}
  }
 },
 "nbformat": 4,
 "nbformat_minor": 0
}
