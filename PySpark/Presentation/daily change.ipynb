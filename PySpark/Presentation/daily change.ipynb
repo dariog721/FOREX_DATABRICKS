{
 "cells": [
  {
   "cell_type": "code",
   "execution_count": 0,
   "metadata": {
    "application/vnd.databricks.v1+cell": {
     "cellMetadata": {
      "byteLimit": 2048000,
      "rowLimit": 10000
     },
     "inputWidgets": {},
     "nuid": "c09cd358-869e-47a6-9d15-8dc729ec62a4",
     "showTitle": false,
     "title": ""
    }
   },
   "outputs": [],
   "source": [
    "from pyspark.sql import Window\n",
    "from pyspark.sql.functions import *\n",
    "from pyspark.sql.types import *"
   ]
  },
  {
   "cell_type": "code",
   "execution_count": 0,
   "metadata": {
    "application/vnd.databricks.v1+cell": {
     "cellMetadata": {
      "byteLimit": 2048000,
      "rowLimit": 10000
     },
     "inputWidgets": {},
     "nuid": "f2cf4294-3f98-4e54-9767-b4e827122ba4",
     "showTitle": false,
     "title": ""
    }
   },
   "outputs": [],
   "source": [
    "forex_df = spark.read.format(\"delta\").load(\"/mnt/forexratesdl/processed/forex_data\")\n",
    "forex_df.createOrReplaceTempView(\"tempviewforex\")"
   ]
  },
  {
   "cell_type": "code",
   "execution_count": 0,
   "metadata": {
    "application/vnd.databricks.v1+cell": {
     "cellMetadata": {
      "byteLimit": 2048000,
      "rowLimit": 10000
     },
     "inputWidgets": {},
     "nuid": "ee1d660a-4c6e-40ee-94ef-8148131e306e",
     "showTitle": false,
     "title": ""
    }
   },
   "outputs": [
    {
     "output_type": "display_data",
     "data": {
      "text/html": [
       "<style scoped>\n",
       "  .table-result-container {\n",
       "    max-height: 300px;\n",
       "    overflow: auto;\n",
       "  }\n",
       "  table, th, td {\n",
       "    border: 1px solid black;\n",
       "    border-collapse: collapse;\n",
       "  }\n",
       "  th, td {\n",
       "    padding: 5px;\n",
       "  }\n",
       "  th {\n",
       "    text-align: left;\n",
       "  }\n",
       "</style><div class='table-result-container'><table class='table-result'><thead style='background-color: white'><tr><th>base_currency_id</th><th>target_currency_id</th><th>currency_name</th><th>daily_change</th><th>data_time</th></tr></thead><tbody><tr><td>USD</td><td>PYG</td><td>Paraguayan Guarani</td><td>15.213</td><td>2024-04-29T14:00:00Z</td></tr><tr><td>USD</td><td>COP</td><td>Colombian Peso</td><td>10.48</td><td>2024-04-29T14:00:00Z</td></tr><tr><td>USD</td><td>CRC</td><td>Costa Rican Colon</td><td>7.084</td><td>2024-04-29T14:00:00Z</td></tr><tr><td>USD</td><td>CLP</td><td>Chilean Peso</td><td>4.481</td><td>2024-04-29T14:00:00Z</td></tr><tr><td>USD</td><td>ARS</td><td>Argentine Peso</td><td>2.926</td><td>2024-04-29T14:00:00Z</td></tr><tr><td>USD</td><td>DOP</td><td>Dominican Peso</td><td>0.333</td><td>2024-04-29T14:00:00Z</td></tr><tr><td>USD</td><td>UYU</td><td>Uruguayan Peso</td><td>0.274</td><td>2024-04-29T14:00:00Z</td></tr><tr><td>USD</td><td>NIO</td><td>Nicaraguan Cordoba</td><td>0.176</td><td>2024-04-29T14:00:00Z</td></tr><tr><td>USD</td><td>VES</td><td>Venezuelan Bolovar Soberano</td><td>0.065</td><td>2024-04-29T14:00:00Z</td></tr><tr><td>USD</td><td>PEN</td><td>Peruvian Nuevo Sol</td><td>0.039</td><td>2024-04-29T14:00:00Z</td></tr><tr><td>USD</td><td>BRL</td><td>Brazilian Real</td><td>0.032</td><td>2024-04-29T14:00:00Z</td></tr><tr><td>USD</td><td>BOB</td><td>Bolivian Boliviano</td><td>0.032</td><td>2024-04-29T14:00:00Z</td></tr><tr><td>USD</td><td>GTQ</td><td>Guatemalan Quetzal</td><td>0.013</td><td>2024-04-29T14:00:00Z</td></tr><tr><td>USD</td><td>HNL</td><td>Honduran Lempira</td><td>0.008</td><td>2024-04-29T14:00:00Z</td></tr><tr><td>USD</td><td>MXN</td><td>Mexican Peso</td><td>0.003</td><td>2024-04-29T14:00:00Z</td></tr><tr><td>USD</td><td>EUR</td><td>Euro</td><td>0.0</td><td>2024-04-29T14:00:00Z</td></tr><tr><td>USD</td><td>CUP</td><td>Cuban Peso</td><td>0.0</td><td>2024-04-29T14:00:00Z</td></tr><tr><td>USD</td><td>PAB</td><td>Panamanian Balboa</td><td>0.0</td><td>2024-04-29T14:00:00Z</td></tr></tbody></table></div>"
      ]
     },
     "metadata": {
      "application/vnd.databricks.v1+output": {
       "addedWidgets": {},
       "aggData": [],
       "aggError": "",
       "aggOverflow": false,
       "aggSchema": [],
       "aggSeriesLimitReached": false,
       "aggType": "",
       "arguments": {},
       "columnCustomDisplayInfos": {},
       "data": [
        [
         "USD",
         "PYG",
         "Paraguayan Guarani",
         15.213,
         "2024-04-29T14:00:00Z"
        ],
        [
         "USD",
         "COP",
         "Colombian Peso",
         10.48,
         "2024-04-29T14:00:00Z"
        ],
        [
         "USD",
         "CRC",
         "Costa Rican Colon",
         7.084,
         "2024-04-29T14:00:00Z"
        ],
        [
         "USD",
         "CLP",
         "Chilean Peso",
         4.481,
         "2024-04-29T14:00:00Z"
        ],
        [
         "USD",
         "ARS",
         "Argentine Peso",
         2.926,
         "2024-04-29T14:00:00Z"
        ],
        [
         "USD",
         "DOP",
         "Dominican Peso",
         0.333,
         "2024-04-29T14:00:00Z"
        ],
        [
         "USD",
         "UYU",
         "Uruguayan Peso",
         0.274,
         "2024-04-29T14:00:00Z"
        ],
        [
         "USD",
         "NIO",
         "Nicaraguan Cordoba",
         0.176,
         "2024-04-29T14:00:00Z"
        ],
        [
         "USD",
         "VES",
         "Venezuelan Bolovar Soberano",
         0.065,
         "2024-04-29T14:00:00Z"
        ],
        [
         "USD",
         "PEN",
         "Peruvian Nuevo Sol",
         0.039,
         "2024-04-29T14:00:00Z"
        ],
        [
         "USD",
         "BRL",
         "Brazilian Real",
         0.032,
         "2024-04-29T14:00:00Z"
        ],
        [
         "USD",
         "BOB",
         "Bolivian Boliviano",
         0.032,
         "2024-04-29T14:00:00Z"
        ],
        [
         "USD",
         "GTQ",
         "Guatemalan Quetzal",
         0.013,
         "2024-04-29T14:00:00Z"
        ],
        [
         "USD",
         "HNL",
         "Honduran Lempira",
         0.008,
         "2024-04-29T14:00:00Z"
        ],
        [
         "USD",
         "MXN",
         "Mexican Peso",
         0.003,
         "2024-04-29T14:00:00Z"
        ],
        [
         "USD",
         "EUR",
         "Euro",
         0.0,
         "2024-04-29T14:00:00Z"
        ],
        [
         "USD",
         "CUP",
         "Cuban Peso",
         0.0,
         "2024-04-29T14:00:00Z"
        ],
        [
         "USD",
         "PAB",
         "Panamanian Balboa",
         0.0,
         "2024-04-29T14:00:00Z"
        ]
       ],
       "datasetInfos": [],
       "dbfsResultPath": null,
       "isJsonSchema": true,
       "metadata": {},
       "overflow": false,
       "plotOptions": {
        "customPlotOptions": {},
        "displayType": "table",
        "pivotAggregation": null,
        "pivotColumns": null,
        "xColumns": null,
        "yColumns": null
       },
       "removedWidgets": [],
       "schema": [
        {
         "metadata": "{}",
         "name": "base_currency_id",
         "type": "\"string\""
        },
        {
         "metadata": "{}",
         "name": "target_currency_id",
         "type": "\"string\""
        },
        {
         "metadata": "{}",
         "name": "currency_name",
         "type": "\"string\""
        },
        {
         "metadata": "{}",
         "name": "daily_change",
         "type": "\"double\""
        },
        {
         "metadata": "{}",
         "name": "data_time",
         "type": "\"timestamp\""
        }
       ],
       "type": "table"
      }
     },
     "output_type": "display_data"
    }
   ],
   "source": [
    "forex_parkSQL = spark.sql(\"WITH Cte AS (SELECT base_currency_id,target_currency_id,currency_name,amount,data_time,\\\n",
    "    LAG(amount) OVER(PARTITION BY base_currency_id,target_currency_id ORDER BY data_time) AS previus_amount,\\\n",
    "    ABS(amount - LAG(amount) OVER (PARTITION BY base_currency_id, target_currency_id ORDER BY data_time)) AS daily_change\\\n",
    "    FROM tempviewforex)\\\n",
    "    SELECT base_currency_id,target_currency_id,currency_name,round(daily_change,3) as daily_change ,data_time\\\n",
    "    FROM Cte ORDER BY daily_change DESC\")\n",
    "forex_parkSQL = forex_parkSQL.where(to_date('data_time', 'yyyy/MM/dd HH:mm:ss.SSS') == current_date())"
   ]
  },
  {
   "cell_type": "code",
   "execution_count": 0,
   "metadata": {
    "application/vnd.databricks.v1+cell": {
     "cellMetadata": {
      "byteLimit": 2048000,
      "rowLimit": 10000
     },
     "inputWidgets": {},
     "nuid": "42ae99e3-48c6-47bc-9656-80f1b15e5e86",
     "showTitle": false,
     "title": ""
    }
   },
   "outputs": [],
   "source": [
    "forex_parkSQL.write.mode(\"append\").format(\"delta\").saveAsTable(\"presentation_forex_db.daily_change\")"
   ]
  },
  {
   "cell_type": "code",
   "execution_count": 0,
   "metadata": {
    "application/vnd.databricks.v1+cell": {
     "cellMetadata": {},
     "inputWidgets": {},
     "nuid": "d680c588-a509-44f7-9ca9-4c33dfb3fbf8",
     "showTitle": false,
     "title": ""
    }
   },
   "outputs": [],
   "source": []
  }
 ],
 "metadata": {
  "application/vnd.databricks.v1+notebook": {
   "dashboards": [],
   "language": "python",
   "notebookMetadata": {
    "pythonIndentUnit": 4
   },
   "notebookName": "daily change",
   "widgets": {}
  }
 },
 "nbformat": 4,
 "nbformat_minor": 0
}
