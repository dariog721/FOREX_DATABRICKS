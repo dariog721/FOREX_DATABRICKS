{
 "cells": [
  {
   "cell_type": "code",
   "execution_count": 0,
   "metadata": {
    "application/vnd.databricks.v1+cell": {
     "cellMetadata": {
      "byteLimit": 2048000,
      "rowLimit": 10000
     },
     "inputWidgets": {},
     "nuid": "c09cd358-869e-47a6-9d15-8dc729ec62a4",
     "showTitle": false,
     "title": ""
    }
   },
   "outputs": [],
   "source": [
    "from pyspark.sql import Window\n",
    "from pyspark.sql.functions import *\n",
    "from pyspark.sql.types import *"
   ]
  },
  {
   "cell_type": "code",
   "execution_count": 0,
   "metadata": {
    "application/vnd.databricks.v1+cell": {
     "cellMetadata": {
      "byteLimit": 2048000,
      "rowLimit": 10000
     },
     "inputWidgets": {},
     "nuid": "f2cf4294-3f98-4e54-9767-b4e827122ba4",
     "showTitle": false,
     "title": ""
    }
   },
   "outputs": [],
   "source": [
    "forex_df = spark.read.format(\"delta\").load(\"/mnt/forexratesdl/processed/forex_data\")\n",
    "forex_df.createOrReplaceTempView(\"tempviewforex\")"
   ]
  },
  {
   "cell_type": "code",
   "execution_count": 0,
   "metadata": {
    "application/vnd.databricks.v1+cell": {
     "cellMetadata": {
      "byteLimit": 2048000,
      "rowLimit": 10000
     },
     "inputWidgets": {},
     "nuid": "ee1d660a-4c6e-40ee-94ef-8148131e306e",
     "showTitle": false,
     "title": ""
    }
   },
   "outputs": [
    {
     "output_type": "display_data",
     "data": {
      "text/html": [
       "<style scoped>\n",
       "  .table-result-container {\n",
       "    max-height: 300px;\n",
       "    overflow: auto;\n",
       "  }\n",
       "  table, th, td {\n",
       "    border: 1px solid black;\n",
       "    border-collapse: collapse;\n",
       "  }\n",
       "  th, td {\n",
       "    padding: 5px;\n",
       "  }\n",
       "  th {\n",
       "    text-align: left;\n",
       "  }\n",
       "</style><div class='table-result-container'><table class='table-result'><thead style='background-color: white'><tr><th>base_currency_id</th><th>target_currency_id</th><th>currency_name</th><th>volatility</th></tr></thead><tbody><tr><td>USD</td><td>COP</td><td>Colombian Peso</td><td>17.984</td></tr><tr><td>USD</td><td>PYG</td><td>Paraguayan Guarani</td><td>10.757</td></tr><tr><td>USD</td><td>CRC</td><td>Costa Rican Colon</td><td>5.009</td></tr><tr><td>USD</td><td>ARS</td><td>Argentine Peso</td><td>2.061</td></tr><tr><td>USD</td><td>CLP</td><td>Chilean Peso</td><td>1.246</td></tr><tr><td>USD</td><td>DOP</td><td>Dominican Peso</td><td>0.236</td></tr><tr><td>USD</td><td>UYU</td><td>Uruguayan Peso</td><td>0.186</td></tr><tr><td>USD</td><td>NIO</td><td>Nicaraguan Cordoba</td><td>0.124</td></tr><tr><td>USD</td><td>VES</td><td>Venezuelan Bolovar Soberano</td><td>0.034</td></tr><tr><td>USD</td><td>PEN</td><td>Peruvian Nuevo Sol</td><td>0.028</td></tr><tr><td>USD</td><td>BOB</td><td>Bolivian Boliviano</td><td>0.023</td></tr><tr><td>USD</td><td>BRL</td><td>Brazilian Real</td><td>0.014</td></tr><tr><td>USD</td><td>MXN</td><td>Mexican Peso</td><td>0.011</td></tr><tr><td>USD</td><td>GTQ</td><td>Guatemalan Quetzal</td><td>0.009</td></tr><tr><td>USD</td><td>HNL</td><td>Honduran Lempira</td><td>0.002</td></tr><tr><td>USD</td><td>EUR</td><td>Euro</td><td>0.001</td></tr><tr><td>USD</td><td>CUP</td><td>Cuban Peso</td><td>0.0</td></tr><tr><td>USD</td><td>PAB</td><td>Panamanian Balboa</td><td>0.0</td></tr></tbody></table></div>"
      ]
     },
     "metadata": {
      "application/vnd.databricks.v1+output": {
       "addedWidgets": {},
       "aggData": [],
       "aggError": "",
       "aggOverflow": false,
       "aggSchema": [],
       "aggSeriesLimitReached": false,
       "aggType": "",
       "arguments": {},
       "columnCustomDisplayInfos": {},
       "data": [
        [
         "USD",
         "COP",
         "Colombian Peso",
         17.984
        ],
        [
         "USD",
         "PYG",
         "Paraguayan Guarani",
         10.757
        ],
        [
         "USD",
         "CRC",
         "Costa Rican Colon",
         5.009
        ],
        [
         "USD",
         "ARS",
         "Argentine Peso",
         2.061
        ],
        [
         "USD",
         "CLP",
         "Chilean Peso",
         1.246
        ],
        [
         "USD",
         "DOP",
         "Dominican Peso",
         0.236
        ],
        [
         "USD",
         "UYU",
         "Uruguayan Peso",
         0.186
        ],
        [
         "USD",
         "NIO",
         "Nicaraguan Cordoba",
         0.124
        ],
        [
         "USD",
         "VES",
         "Venezuelan Bolovar Soberano",
         0.034
        ],
        [
         "USD",
         "PEN",
         "Peruvian Nuevo Sol",
         0.028
        ],
        [
         "USD",
         "BOB",
         "Bolivian Boliviano",
         0.023
        ],
        [
         "USD",
         "BRL",
         "Brazilian Real",
         0.014
        ],
        [
         "USD",
         "MXN",
         "Mexican Peso",
         0.011
        ],
        [
         "USD",
         "GTQ",
         "Guatemalan Quetzal",
         0.009
        ],
        [
         "USD",
         "HNL",
         "Honduran Lempira",
         0.002
        ],
        [
         "USD",
         "EUR",
         "Euro",
         0.001
        ],
        [
         "USD",
         "CUP",
         "Cuban Peso",
         0.0
        ],
        [
         "USD",
         "PAB",
         "Panamanian Balboa",
         0.0
        ]
       ],
       "datasetInfos": [],
       "dbfsResultPath": null,
       "isJsonSchema": true,
       "metadata": {},
       "overflow": false,
       "plotOptions": {
        "customPlotOptions": {},
        "displayType": "table",
        "pivotAggregation": null,
        "pivotColumns": null,
        "xColumns": null,
        "yColumns": null
       },
       "removedWidgets": [],
       "schema": [
        {
         "metadata": "{}",
         "name": "base_currency_id",
         "type": "\"string\""
        },
        {
         "metadata": "{}",
         "name": "target_currency_id",
         "type": "\"string\""
        },
        {
         "metadata": "{}",
         "name": "currency_name",
         "type": "\"string\""
        },
        {
         "metadata": "{}",
         "name": "volatility",
         "type": "\"double\""
        }
       ],
       "type": "table"
      }
     },
     "output_type": "display_data"
    }
   ],
   "source": [
    "forex_parkSQL = spark.sql(\"WITH cte AS (SELECT base_currency_id,target_currency_id,currency_name,amount,\\\n",
    "    LAG(amount) OVER(PARTITION BY base_currency_id,target_currency_id ORDER BY data_time) AS previus_amount,\\\n",
    "    ABS(amount - LAG(amount) OVER (PARTITION BY base_currency_id, target_currency_id ORDER BY data_time)) AS daily_change\\\n",
    "    FROM tempviewforex)\\\n",
    "    SELECT base_currency_id,target_currency_id,currency_name,\\\n",
    "    round(stddev(daily_change),3) AS volatility\\\n",
    "    FROM cte\\\n",
    "    GROUP BY base_currency_id, target_currency_id,currency_name\\\n",
    "    ORDER BY volatility desc;\")"
   ]
  },
  {
   "cell_type": "code",
   "execution_count": 0,
   "metadata": {
    "application/vnd.databricks.v1+cell": {
     "cellMetadata": {
      "byteLimit": 2048000,
      "rowLimit": 10000
     },
     "inputWidgets": {},
     "nuid": "42ae99e3-48c6-47bc-9656-80f1b15e5e86",
     "showTitle": false,
     "title": ""
    }
   },
   "outputs": [],
   "source": [
    "forex_parkSQL.write.mode(\"append\").format(\"delta\").saveAsTable(\"presentation_forex_db.volatility\")"
   ]
  },
  {
   "cell_type": "code",
   "execution_count": 0,
   "metadata": {
    "application/vnd.databricks.v1+cell": {
     "cellMetadata": {},
     "inputWidgets": {},
     "nuid": "d680c588-a509-44f7-9ca9-4c33dfb3fbf8",
     "showTitle": false,
     "title": ""
    }
   },
   "outputs": [],
   "source": []
  }
 ],
 "metadata": {
  "application/vnd.databricks.v1+notebook": {
   "dashboards": [],
   "language": "python",
   "notebookMetadata": {
    "pythonIndentUnit": 4
   },
   "notebookName": "Exchange rate volatility",
   "widgets": {}
  }
 },
 "nbformat": 4,
 "nbformat_minor": 0
}
