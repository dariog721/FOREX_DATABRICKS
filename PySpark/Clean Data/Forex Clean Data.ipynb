{
 "cells": [
  {
   "cell_type": "code",
   "execution_count": 0,
   "metadata": {
    "application/vnd.databricks.v1+cell": {
     "cellMetadata": {
      "byteLimit": 2048000,
      "rowLimit": 10000
     },
     "inputWidgets": {},
     "nuid": "479b6d9c-6c50-4eda-8ff9-0ea7a2a8e274",
     "showTitle": false,
     "title": ""
    }
   },
   "outputs": [],
   "source": [
    "from pyspark.sql.functions import *\n",
    "from pyspark.sql.types import *"
   ]
  },
  {
   "cell_type": "code",
   "execution_count": 0,
   "metadata": {
    "application/vnd.databricks.v1+cell": {
     "cellMetadata": {
      "byteLimit": 2048000,
      "rowLimit": 10000
     },
     "inputWidgets": {},
     "nuid": "60dc1d0f-fcee-47d5-960a-2c3e8b1e8d26",
     "showTitle": false,
     "title": ""
    }
   },
   "outputs": [],
   "source": [
    "forex_schema = StructType(fields=[StructField(\"base_currency_id\", StringType(), False),\n",
    "                                     StructField(\"target_currency_id\", StringType(), False),\n",
    "                                     StructField(\"amount\", DoubleType(), True),\n",
    "                                     StructField(\"data_time\", TimestampType(), True),\n",
    "                                     StructField(\"time_insert\", TimestampType(), True),\n",
    "                                    ])\n",
    "df_raw_forex = spark.read.csv(\"/mnt/forexratesdl/raw/forex_clean.csv\", sep=r',',schema=forex_schema ,header=True)"
   ]
  },
  {
   "cell_type": "code",
   "execution_count": 0,
   "metadata": {
    "application/vnd.databricks.v1+cell": {
     "cellMetadata": {
      "byteLimit": 2048000,
      "rowLimit": 10000
     },
     "inputWidgets": {},
     "nuid": "a1b1d621-9dc5-49b9-b15a-b5c88c5d310b",
     "showTitle": false,
     "title": ""
    }
   },
   "outputs": [],
   "source": [
    "df_raw_lookup = spark.read.csv(\"/mnt/forexratesdl/lookup/forex_info.csv\", sep=r',',header=True)\n",
    "df_raw_lookup = df_raw_lookup.withColumnRenamed('currency name','currency_name')\n",
    "df_raw_lookup = df_raw_lookup.withColumn('currency_name', regexp_replace(df_raw_lookup.currency_name,'\t', ''))\n",
    "df_raw_lookup = df_raw_lookup.withColumn('currency_name', regexp_replace(df_raw_lookup.currency_name,'�','o'))\n"
   ]
  },
  {
   "cell_type": "code",
   "execution_count": 0,
   "metadata": {
    "application/vnd.databricks.v1+cell": {
     "cellMetadata": {
      "byteLimit": 2048000,
      "rowLimit": 10000
     },
     "inputWidgets": {},
     "nuid": "eb0d8a35-6168-44da-a624-fbbe68f64d80",
     "showTitle": false,
     "title": ""
    }
   },
   "outputs": [],
   "source": [
    "forex_df = df_raw_lookup.join(df_raw_forex, df_raw_forex.target_currency_id == df_raw_lookup.base, \"inner\") \\\n",
    "    .select(df_raw_forex.base_currency_id,df_raw_forex.target_currency_id,df_raw_lookup.currency_name,df_raw_forex.amount,df_raw_forex.data_time)"
   ]
  },
  {
   "cell_type": "code",
   "execution_count": 0,
   "metadata": {
    "application/vnd.databricks.v1+cell": {
     "cellMetadata": {
      "byteLimit": 2048000,
      "rowLimit": 10000
     },
     "inputWidgets": {},
     "nuid": "86fe21a8-3ba7-4023-84fd-a263a37f6843",
     "showTitle": false,
     "title": ""
    }
   },
   "outputs": [],
   "source": [
    "forex_df.write.mode(\"append\").format(\"delta\").saveAsTable(\"forex_db.forex_data\")"
   ]
  }
 ],
 "metadata": {
  "application/vnd.databricks.v1+notebook": {
   "dashboards": [],
   "language": "python",
   "notebookMetadata": {
    "mostRecentlyExecutedCommandWithImplicitDF": {
     "commandId": 3817958686160598,
     "dataframes": [
      "_sqldf"
     ]
    },
    "pythonIndentUnit": 4
   },
   "notebookName": "Forex Clean Data",
   "widgets": {}
  }
 },
 "nbformat": 4,
 "nbformat_minor": 0
}
